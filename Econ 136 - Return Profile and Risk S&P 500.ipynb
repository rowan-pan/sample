{
 "cells": [
  {
   "cell_type": "markdown",
   "metadata": {},
   "source": [
    "## Name: Rowan Pan\n",
    "\n",
    "## Econ 136: Return Profile and Risk of the S&P 500 Sample Work\n"
   ]
  },
  {
   "cell_type": "code",
   "execution_count": 1,
   "metadata": {},
   "outputs": [],
   "source": [
    "import numpy as np\n",
    "from scipy import stats\n",
    "\n",
    "import pandas as pd\n",
    "import warnings\n",
    "warnings.filterwarnings('ignore')\n",
    "\n",
    "import matplotlib.pyplot as plt\n",
    "%matplotlib inline\n",
    "import seaborn as sns\n",
    "\n",
    "sns.set_style(\"darkgrid\")\n"
   ]
  },
  {
   "cell_type": "markdown",
   "metadata": {},
   "source": [
    "Note:  Descriptions of my coding steps are documented with # in blue"
   ]
  },
  {
   "cell_type": "markdown",
   "metadata": {},
   "source": [
    "## Problem 1"
   ]
  },
  {
   "cell_type": "markdown",
   "metadata": {},
   "source": [
    "1. **The return profile and risk of the S&P 500**\n",
    "\n",
    "(a) Create a graph of the Close price of SPY (not the adjusted close price) as a function of time.  Label the axes and give it a title (e.g. SPY). This is simply a graph using the data you have downloaded.\n",
    "\n",
    "(b) Create  a  graph  of  the  SPY  returns  as  a  function  of  time  using  the Close price and dividends.  Begin by adding a “dividends” column to assign dividends for each date. For dates with no dividends,  a  N/A  will  likely  appear.  In the next column calculate the returns including the dividends.  Graph these results.  Label the graph.\n",
    "\n",
    "(c) Create a semi-log graph of the cumulative distribution function (CDF and 1 - CDF) of the SPY returns. Copy the values return data to the next column  using  the  “Copy”  &  “Paste  Special”  commands  so  that  on  the  return values are copied.  Order the returns using the “Sort” command.  In the column to  the  right  of  the  ordered  returns  calculate  the  CDF  using  CDF($x_k$) =k/(N+1) where k is the running index of the return k= 1...N and N is the number of returns.  The COUNT() function is useful for calculating k.  In the column to the right of your CDF results, use the IF() statement to create a column of CDF and 1-CDF depending on whether the return is negative.  Graph these results with a linear x-axis and a logarithmic y-axis.  Label the graph.\n",
    "\n",
    "(d) Add a Gaussian distribution to the semi-log graph of the CDF of theSPY returns.Begin by calculating the mean AVERAGE() and standard devia-tion STDEV() of the ordered returns. Use them to calculate the cumulative Gaussian distribution(NORMDIST() and 1 - NORMDIST()) in the column next to your last cumula-tive distribution calculation.  Make a copy of the graph from the part (1c) above and add the cumulative Gaussian distribution to the copy.\n",
    "\n",
    "(e) Estimate the power-law coefficients in Eq. (41) of Gabaix’s article for the SPY ETF. To do this in Excel:i.  Create the dependent variable $ln [P(|r|> x)]$ by taking the natural logarithm of your column of data containing the CDF and 1- CDF. \n",
    "\n",
    "ii. Create  the  independent  variable  ln (|x|)  wherexis  your  normalized  return data: $x=r−\\mu_r\\sigma_r$ where $\\mu_r$ and $\\sigma_r$ are the mean and standard deviation of the returns that you used to create your Gaussian density.\n",
    "\n",
    "iii. Graph these results for |x| > 2 as a scatter plot.\n",
    "\n",
    "iv. Add a add a linear trendline to the graph and (in the trendline options) show the equation of the trendline and the $R^2$ on the graph (also in the trendlineoptions).  The coefficients you seek are in the equation for the trendline.\n",
    "\n",
    "v. Briefly discuss your value of $\\xi_r$ for this ETF in terms of the result one would expect as described by Gabaix in section 6.1.1 of his paper."
   ]
  },
  {
   "cell_type": "markdown",
   "metadata": {},
   "source": [
    "# Loading the Data"
   ]
  },
  {
   "cell_type": "code",
   "execution_count": 2,
   "metadata": {},
   "outputs": [
    {
     "data": {
      "text/html": [
       "<div>\n",
       "<style scoped>\n",
       "    .dataframe tbody tr th:only-of-type {\n",
       "        vertical-align: middle;\n",
       "    }\n",
       "\n",
       "    .dataframe tbody tr th {\n",
       "        vertical-align: top;\n",
       "    }\n",
       "\n",
       "    .dataframe thead th {\n",
       "        text-align: right;\n",
       "    }\n",
       "</style>\n",
       "<table border=\"1\" class=\"dataframe\">\n",
       "  <thead>\n",
       "    <tr style=\"text-align: right;\">\n",
       "      <th></th>\n",
       "      <th>Date</th>\n",
       "      <th>Open</th>\n",
       "      <th>High</th>\n",
       "      <th>Low</th>\n",
       "      <th>Close</th>\n",
       "      <th>Adj Close</th>\n",
       "      <th>Volume</th>\n",
       "    </tr>\n",
       "  </thead>\n",
       "  <tbody>\n",
       "    <tr>\n",
       "      <th>0</th>\n",
       "      <td>1993-01-29</td>\n",
       "      <td>43.96875</td>\n",
       "      <td>43.96875</td>\n",
       "      <td>43.75000</td>\n",
       "      <td>43.93750</td>\n",
       "      <td>26.453930</td>\n",
       "      <td>1003200</td>\n",
       "    </tr>\n",
       "    <tr>\n",
       "      <th>1</th>\n",
       "      <td>1993-02-01</td>\n",
       "      <td>43.96875</td>\n",
       "      <td>44.25000</td>\n",
       "      <td>43.96875</td>\n",
       "      <td>44.25000</td>\n",
       "      <td>26.642057</td>\n",
       "      <td>480500</td>\n",
       "    </tr>\n",
       "    <tr>\n",
       "      <th>2</th>\n",
       "      <td>1993-02-02</td>\n",
       "      <td>44.21875</td>\n",
       "      <td>44.37500</td>\n",
       "      <td>44.12500</td>\n",
       "      <td>44.34375</td>\n",
       "      <td>26.698507</td>\n",
       "      <td>201300</td>\n",
       "    </tr>\n",
       "    <tr>\n",
       "      <th>3</th>\n",
       "      <td>1993-02-03</td>\n",
       "      <td>44.40625</td>\n",
       "      <td>44.84375</td>\n",
       "      <td>44.37500</td>\n",
       "      <td>44.81250</td>\n",
       "      <td>26.980742</td>\n",
       "      <td>529400</td>\n",
       "    </tr>\n",
       "    <tr>\n",
       "      <th>4</th>\n",
       "      <td>1993-02-04</td>\n",
       "      <td>44.96875</td>\n",
       "      <td>45.09375</td>\n",
       "      <td>44.46875</td>\n",
       "      <td>45.00000</td>\n",
       "      <td>27.093624</td>\n",
       "      <td>531500</td>\n",
       "    </tr>\n",
       "  </tbody>\n",
       "</table>\n",
       "</div>"
      ],
      "text/plain": [
       "         Date      Open      High       Low     Close  Adj Close   Volume\n",
       "0  1993-01-29  43.96875  43.96875  43.75000  43.93750  26.453930  1003200\n",
       "1  1993-02-01  43.96875  44.25000  43.96875  44.25000  26.642057   480500\n",
       "2  1993-02-02  44.21875  44.37500  44.12500  44.34375  26.698507   201300\n",
       "3  1993-02-03  44.40625  44.84375  44.37500  44.81250  26.980742   529400\n",
       "4  1993-02-04  44.96875  45.09375  44.46875  45.00000  27.093624   531500"
      ]
     },
     "execution_count": 2,
     "metadata": {},
     "output_type": "execute_result"
    }
   ],
   "source": [
    "# load spy data\n",
    "spy = pd.read_csv('SPY.csv')\n",
    "spy.head()"
   ]
  },
  {
   "cell_type": "code",
   "execution_count": 3,
   "metadata": {},
   "outputs": [
    {
     "data": {
      "text/html": [
       "<div>\n",
       "<style scoped>\n",
       "    .dataframe tbody tr th:only-of-type {\n",
       "        vertical-align: middle;\n",
       "    }\n",
       "\n",
       "    .dataframe tbody tr th {\n",
       "        vertical-align: top;\n",
       "    }\n",
       "\n",
       "    .dataframe thead th {\n",
       "        text-align: right;\n",
       "    }\n",
       "</style>\n",
       "<table border=\"1\" class=\"dataframe\">\n",
       "  <thead>\n",
       "    <tr style=\"text-align: right;\">\n",
       "      <th></th>\n",
       "      <th>Date</th>\n",
       "      <th>Dividends</th>\n",
       "    </tr>\n",
       "  </thead>\n",
       "  <tbody>\n",
       "    <tr>\n",
       "      <th>0</th>\n",
       "      <td>2011-12-16</td>\n",
       "      <td>0.770</td>\n",
       "    </tr>\n",
       "    <tr>\n",
       "      <th>1</th>\n",
       "      <td>2012-06-15</td>\n",
       "      <td>0.688</td>\n",
       "    </tr>\n",
       "    <tr>\n",
       "      <th>2</th>\n",
       "      <td>2016-09-16</td>\n",
       "      <td>1.082</td>\n",
       "    </tr>\n",
       "    <tr>\n",
       "      <th>3</th>\n",
       "      <td>1996-06-21</td>\n",
       "      <td>0.351</td>\n",
       "    </tr>\n",
       "    <tr>\n",
       "      <th>4</th>\n",
       "      <td>2017-03-17</td>\n",
       "      <td>1.033</td>\n",
       "    </tr>\n",
       "  </tbody>\n",
       "</table>\n",
       "</div>"
      ],
      "text/plain": [
       "         Date  Dividends\n",
       "0  2011-12-16      0.770\n",
       "1  2012-06-15      0.688\n",
       "2  2016-09-16      1.082\n",
       "3  1996-06-21      0.351\n",
       "4  2017-03-17      1.033"
      ]
     },
     "execution_count": 3,
     "metadata": {},
     "output_type": "execute_result"
    }
   ],
   "source": [
    "# load dividends data\n",
    "div = pd.read_csv('SPY_div.csv')\n",
    "div.head()"
   ]
  },
  {
   "cell_type": "code",
   "execution_count": 4,
   "metadata": {},
   "outputs": [
    {
     "data": {
      "text/plain": [
       "((6805, 7), (112, 2))"
      ]
     },
     "execution_count": 4,
     "metadata": {},
     "output_type": "execute_result"
    }
   ],
   "source": [
    "spy.shape, div.shape"
   ]
  },
  {
   "cell_type": "code",
   "execution_count": 5,
   "metadata": {},
   "outputs": [
    {
     "data": {
      "text/html": [
       "<div>\n",
       "<style scoped>\n",
       "    .dataframe tbody tr th:only-of-type {\n",
       "        vertical-align: middle;\n",
       "    }\n",
       "\n",
       "    .dataframe tbody tr th {\n",
       "        vertical-align: top;\n",
       "    }\n",
       "\n",
       "    .dataframe thead th {\n",
       "        text-align: right;\n",
       "    }\n",
       "</style>\n",
       "<table border=\"1\" class=\"dataframe\">\n",
       "  <thead>\n",
       "    <tr style=\"text-align: right;\">\n",
       "      <th></th>\n",
       "      <th>Date</th>\n",
       "      <th>Open</th>\n",
       "      <th>High</th>\n",
       "      <th>Low</th>\n",
       "      <th>Close</th>\n",
       "      <th>Adj Close</th>\n",
       "      <th>Volume</th>\n",
       "    </tr>\n",
       "  </thead>\n",
       "  <tbody>\n",
       "    <tr>\n",
       "      <th>0</th>\n",
       "      <td>1993-01-29</td>\n",
       "      <td>43.96875</td>\n",
       "      <td>43.96875</td>\n",
       "      <td>43.75000</td>\n",
       "      <td>43.93750</td>\n",
       "      <td>26.453930</td>\n",
       "      <td>1003200</td>\n",
       "    </tr>\n",
       "    <tr>\n",
       "      <th>1</th>\n",
       "      <td>1993-02-01</td>\n",
       "      <td>43.96875</td>\n",
       "      <td>44.25000</td>\n",
       "      <td>43.96875</td>\n",
       "      <td>44.25000</td>\n",
       "      <td>26.642057</td>\n",
       "      <td>480500</td>\n",
       "    </tr>\n",
       "    <tr>\n",
       "      <th>2</th>\n",
       "      <td>1993-02-02</td>\n",
       "      <td>44.21875</td>\n",
       "      <td>44.37500</td>\n",
       "      <td>44.12500</td>\n",
       "      <td>44.34375</td>\n",
       "      <td>26.698507</td>\n",
       "      <td>201300</td>\n",
       "    </tr>\n",
       "    <tr>\n",
       "      <th>3</th>\n",
       "      <td>1993-02-03</td>\n",
       "      <td>44.40625</td>\n",
       "      <td>44.84375</td>\n",
       "      <td>44.37500</td>\n",
       "      <td>44.81250</td>\n",
       "      <td>26.980742</td>\n",
       "      <td>529400</td>\n",
       "    </tr>\n",
       "    <tr>\n",
       "      <th>4</th>\n",
       "      <td>1993-02-04</td>\n",
       "      <td>44.96875</td>\n",
       "      <td>45.09375</td>\n",
       "      <td>44.46875</td>\n",
       "      <td>45.00000</td>\n",
       "      <td>27.093624</td>\n",
       "      <td>531500</td>\n",
       "    </tr>\n",
       "  </tbody>\n",
       "</table>\n",
       "</div>"
      ],
      "text/plain": [
       "        Date      Open      High       Low     Close  Adj Close   Volume\n",
       "0 1993-01-29  43.96875  43.96875  43.75000  43.93750  26.453930  1003200\n",
       "1 1993-02-01  43.96875  44.25000  43.96875  44.25000  26.642057   480500\n",
       "2 1993-02-02  44.21875  44.37500  44.12500  44.34375  26.698507   201300\n",
       "3 1993-02-03  44.40625  44.84375  44.37500  44.81250  26.980742   529400\n",
       "4 1993-02-04  44.96875  45.09375  44.46875  45.00000  27.093624   531500"
      ]
     },
     "execution_count": 5,
     "metadata": {},
     "output_type": "execute_result"
    }
   ],
   "source": [
    "# I need to change the date to a more usable format for faster plotting\n",
    "spy_copy = spy.copy()\n",
    "spy_copy['Date'] = pd.to_datetime(spy_copy['Date'], format='%Y.%m.%d')\n",
    "spy_copy.head()"
   ]
  },
  {
   "cell_type": "markdown",
   "metadata": {},
   "source": [
    "## Part 1a"
   ]
  },
  {
   "cell_type": "code",
   "execution_count": 6,
   "metadata": {
    "scrolled": false
   },
   "outputs": [
    {
     "data": {
      "image/png": "[encoded data removed]",
      "text/plain": [
       "<Figure size 576x432 with 1 Axes>"
      ]
     },
     "metadata": {},
     "output_type": "display_data"
    }
   ],
   "source": [
    "# plot for 1a\n",
    "plt.figure(figsize = (8,6))\n",
    "part_1a = plt.plot('Date', 'Close', data = spy_copy)\n",
    "plt.title(\"SPY Closing Price over 1993-2020\")\n",
    "plt.xlabel(\"Years\")\n",
    "plt.ylabel(\"Closing Price ($)\")\n",
    "plt.show()"
   ]
  },
  {
   "cell_type": "markdown",
   "metadata": {},
   "source": [
    "\\newpage"
   ]
  },
  {
   "cell_type": "markdown",
   "metadata": {},
   "source": [
    "## Part 1b"
   ]
  },
  {
   "cell_type": "code",
   "execution_count": 7,
   "metadata": {},
   "outputs": [
    {
     "data": {
      "text/html": [
       "<div>\n",
       "<style scoped>\n",
       "    .dataframe tbody tr th:only-of-type {\n",
       "        vertical-align: middle;\n",
       "    }\n",
       "\n",
       "    .dataframe tbody tr th {\n",
       "        vertical-align: top;\n",
       "    }\n",
       "\n",
       "    .dataframe thead th {\n",
       "        text-align: right;\n",
       "    }\n",
       "</style>\n",
       "<table border=\"1\" class=\"dataframe\">\n",
       "  <thead>\n",
       "    <tr style=\"text-align: right;\">\n",
       "      <th></th>\n",
       "      <th>Date</th>\n",
       "      <th>Open</th>\n",
       "      <th>High</th>\n",
       "      <th>Low</th>\n",
       "      <th>Close</th>\n",
       "      <th>Volume</th>\n",
       "      <th>Dividends</th>\n",
       "    </tr>\n",
       "  </thead>\n",
       "  <tbody>\n",
       "    <tr>\n",
       "      <th>0</th>\n",
       "      <td>1993-01-29</td>\n",
       "      <td>43.96875</td>\n",
       "      <td>43.96875</td>\n",
       "      <td>43.75000</td>\n",
       "      <td>43.93750</td>\n",
       "      <td>1003200</td>\n",
       "      <td>0.0</td>\n",
       "    </tr>\n",
       "    <tr>\n",
       "      <th>1</th>\n",
       "      <td>1993-02-01</td>\n",
       "      <td>43.96875</td>\n",
       "      <td>44.25000</td>\n",
       "      <td>43.96875</td>\n",
       "      <td>44.25000</td>\n",
       "      <td>480500</td>\n",
       "      <td>0.0</td>\n",
       "    </tr>\n",
       "    <tr>\n",
       "      <th>2</th>\n",
       "      <td>1993-02-02</td>\n",
       "      <td>44.21875</td>\n",
       "      <td>44.37500</td>\n",
       "      <td>44.12500</td>\n",
       "      <td>44.34375</td>\n",
       "      <td>201300</td>\n",
       "      <td>0.0</td>\n",
       "    </tr>\n",
       "    <tr>\n",
       "      <th>3</th>\n",
       "      <td>1993-02-03</td>\n",
       "      <td>44.40625</td>\n",
       "      <td>44.84375</td>\n",
       "      <td>44.37500</td>\n",
       "      <td>44.81250</td>\n",
       "      <td>529400</td>\n",
       "      <td>0.0</td>\n",
       "    </tr>\n",
       "    <tr>\n",
       "      <th>4</th>\n",
       "      <td>1993-02-04</td>\n",
       "      <td>44.96875</td>\n",
       "      <td>45.09375</td>\n",
       "      <td>44.46875</td>\n",
       "      <td>45.00000</td>\n",
       "      <td>531500</td>\n",
       "      <td>0.0</td>\n",
       "    </tr>\n",
       "  </tbody>\n",
       "</table>\n",
       "</div>"
      ],
      "text/plain": [
       "         Date      Open      High       Low     Close   Volume  Dividends\n",
       "0  1993-01-29  43.96875  43.96875  43.75000  43.93750  1003200        0.0\n",
       "1  1993-02-01  43.96875  44.25000  43.96875  44.25000   480500        0.0\n",
       "2  1993-02-02  44.21875  44.37500  44.12500  44.34375   201300        0.0\n",
       "3  1993-02-03  44.40625  44.84375  44.37500  44.81250   529400        0.0\n",
       "4  1993-02-04  44.96875  45.09375  44.46875  45.00000   531500        0.0"
      ]
     },
     "execution_count": 7,
     "metadata": {},
     "output_type": "execute_result"
    }
   ],
   "source": [
    "# merge the dividends table with the other table\n",
    "spy_div = spy.merge(div, how = \"outer\")\n",
    "\n",
    "# replace all N/A with 0's\n",
    "spy_div['Dividends'] = spy_div['Dividends'].fillna(0)\n",
    "spy_div = spy_div.drop(\"Adj Close\", axis = 1)\n",
    "spy_div.head()"
   ]
  },
  {
   "cell_type": "markdown",
   "metadata": {},
   "source": [
    "$\\textbf{Returns Formula:}$\n",
    "\n",
    "$$r(t) = \\frac{x(t+\\tau)-x(t)+\\text{dividend during period}}{x(t)}$$"
   ]
  },
  {
   "cell_type": "code",
   "execution_count": 8,
   "metadata": {
    "scrolled": true
   },
   "outputs": [],
   "source": [
    "# calculate returns (return = tomorrow close - today close + dividends all divided by today close)\n",
    "returns = [100*((spy_div['Close'][i+1]- spy_div['Close'][i]+ spy_div['Dividends'][i])/(spy_div['Close'][i])) \n",
    "for i in range(0, 6804)]\n",
    "\n",
    "spy_div = spy_div.drop([6804], axis = 0)\n",
    "\n",
    "# create new column in dataframe\n",
    "spy_div['Returns'] = returns"
   ]
  },
  {
   "cell_type": "code",
   "execution_count": 9,
   "metadata": {
    "scrolled": false
   },
   "outputs": [
    {
     "data": {
      "image/png": "[encoded data removed]",
      "text/plain": [
       "<Figure size 576x432 with 1 Axes>"
      ]
     },
     "metadata": {},
     "output_type": "display_data"
    }
   ],
   "source": [
    "# plot for 1b\n",
    "plt.figure(figsize = (8,6))\n",
    "spy_div['Date'] = pd.to_datetime(spy_copy['Date'], format='%Y.%m.%d')\n",
    "\n",
    "plt.plot(\"Date\", \"Returns\", data = spy_div)\n",
    "plt.title('SPY Returns over 1993-2020')\n",
    "plt.xlabel('Years')\n",
    "plt.ylabel('Returns (%)')\n",
    "plt.show()"
   ]
  },
  {
   "cell_type": "markdown",
   "metadata": {},
   "source": [
    "\\newpage"
   ]
  },
  {
   "cell_type": "markdown",
   "metadata": {},
   "source": [
    "# Part 1c"
   ]
  },
  {
   "cell_type": "code",
   "execution_count": 10,
   "metadata": {
    "scrolled": true
   },
   "outputs": [
    {
     "data": {
      "text/html": [
       "<div>\n",
       "<style scoped>\n",
       "    .dataframe tbody tr th:only-of-type {\n",
       "        vertical-align: middle;\n",
       "    }\n",
       "\n",
       "    .dataframe tbody tr th {\n",
       "        vertical-align: top;\n",
       "    }\n",
       "\n",
       "    .dataframe thead th {\n",
       "        text-align: right;\n",
       "    }\n",
       "</style>\n",
       "<table border=\"1\" class=\"dataframe\">\n",
       "  <thead>\n",
       "    <tr style=\"text-align: right;\">\n",
       "      <th></th>\n",
       "      <th>Returns</th>\n",
       "      <th>K</th>\n",
       "    </tr>\n",
       "  </thead>\n",
       "  <tbody>\n",
       "    <tr>\n",
       "      <th>3957</th>\n",
       "      <td>-9.844768</td>\n",
       "      <td>1</td>\n",
       "    </tr>\n",
       "    <tr>\n",
       "      <th>3989</th>\n",
       "      <td>-8.857804</td>\n",
       "      <td>2</td>\n",
       "    </tr>\n",
       "    <tr>\n",
       "      <th>3945</th>\n",
       "      <td>-7.836161</td>\n",
       "      <td>3</td>\n",
       "    </tr>\n",
       "    <tr>\n",
       "      <th>3983</th>\n",
       "      <td>-7.423317</td>\n",
       "      <td>4</td>\n",
       "    </tr>\n",
       "    <tr>\n",
       "      <th>1198</th>\n",
       "      <td>-7.247340</td>\n",
       "      <td>5</td>\n",
       "    </tr>\n",
       "  </tbody>\n",
       "</table>\n",
       "</div>"
      ],
      "text/plain": [
       "       Returns  K\n",
       "3957 -9.844768  1\n",
       "3989 -8.857804  2\n",
       "3945 -7.836161  3\n",
       "3983 -7.423317  4\n",
       "1198 -7.247340  5"
      ]
     },
     "execution_count": 10,
     "metadata": {},
     "output_type": "execute_result"
    }
   ],
   "source": [
    "# sort returns and assign ascending k values \n",
    "spy_div2 = spy_div.copy()\n",
    "spy_div2 = spy_div2.sort_values('Returns', ascending = True)\n",
    "spy_div2['K'] = np.arange(1, len(spy_div2)+1, 1)\n",
    "spy_div2[['Returns', 'K']].head()"
   ]
  },
  {
   "cell_type": "code",
   "execution_count": 11,
   "metadata": {
    "scrolled": true
   },
   "outputs": [],
   "source": [
    "# Let's calculate the CDF for each return\n",
    "N = spy_div2.shape[0]\n",
    "spy_div2['CDF'] = spy_div2['K']/(N+1)\n",
    "spy_div2['Inv CDF'] = 1- spy_div2['CDF']"
   ]
  },
  {
   "cell_type": "code",
   "execution_count": 12,
   "metadata": {
    "scrolled": false
   },
   "outputs": [
    {
     "data": {
      "text/html": [
       "<div>\n",
       "<style scoped>\n",
       "    .dataframe tbody tr th:only-of-type {\n",
       "        vertical-align: middle;\n",
       "    }\n",
       "\n",
       "    .dataframe tbody tr th {\n",
       "        vertical-align: top;\n",
       "    }\n",
       "\n",
       "    .dataframe thead th {\n",
       "        text-align: right;\n",
       "    }\n",
       "</style>\n",
       "<table border=\"1\" class=\"dataframe\">\n",
       "  <thead>\n",
       "    <tr style=\"text-align: right;\">\n",
       "      <th></th>\n",
       "      <th>CDF</th>\n",
       "      <th>Inv CDF</th>\n",
       "    </tr>\n",
       "  </thead>\n",
       "  <tbody>\n",
       "    <tr>\n",
       "      <th>3957</th>\n",
       "      <td>0.000147</td>\n",
       "      <td>0.999853</td>\n",
       "    </tr>\n",
       "    <tr>\n",
       "      <th>3989</th>\n",
       "      <td>0.000294</td>\n",
       "      <td>0.999706</td>\n",
       "    </tr>\n",
       "    <tr>\n",
       "      <th>3945</th>\n",
       "      <td>0.000441</td>\n",
       "      <td>0.999559</td>\n",
       "    </tr>\n",
       "    <tr>\n",
       "      <th>3983</th>\n",
       "      <td>0.000588</td>\n",
       "      <td>0.999412</td>\n",
       "    </tr>\n",
       "    <tr>\n",
       "      <th>1198</th>\n",
       "      <td>0.000735</td>\n",
       "      <td>0.999265</td>\n",
       "    </tr>\n",
       "  </tbody>\n",
       "</table>\n",
       "</div>"
      ],
      "text/plain": [
       "           CDF   Inv CDF\n",
       "3957  0.000147  0.999853\n",
       "3989  0.000294  0.999706\n",
       "3945  0.000441  0.999559\n",
       "3983  0.000588  0.999412\n",
       "1198  0.000735  0.999265"
      ]
     },
     "execution_count": 12,
     "metadata": {},
     "output_type": "execute_result"
    }
   ],
   "source": [
    "# table manipulations\n",
    "spy_div2['CDF'] = (spy_div2['CDF'])\n",
    "spy_div2['Inv CDF'] = (spy_div2['Inv CDF'])\n",
    "spy_div2[['CDF', \"Inv CDF\"]].head()"
   ]
  },
  {
   "cell_type": "code",
   "execution_count": 13,
   "metadata": {},
   "outputs": [],
   "source": [
    "# This function takes in a dataframe @df. If the i'th return is negative, append the log CDF to empty array. \n",
    "# If the i'th return is positive, append the inverse log cdf to empty array.\n",
    "def MergeCDF(df):\n",
    "    returns = df['Returns'].tolist()\n",
    "    cdf = df['CDF'].tolist()\n",
    "    inv_cdf = df['Inv CDF'].tolist()\n",
    "    empty = np.array([])\n",
    "    \n",
    "    for i in range(0, len(returns)):\n",
    "        if returns[i] <0:\n",
    "            empty = np.append(empty, cdf[i])\n",
    "        elif returns[i]>=0:\n",
    "            empty = np.append(empty, inv_cdf[i])\n",
    "    return empty        "
   ]
  },
  {
   "cell_type": "code",
   "execution_count": 14,
   "metadata": {
    "scrolled": false
   },
   "outputs": [
    {
     "data": {
      "text/html": [
       "<div>\n",
       "<style scoped>\n",
       "    .dataframe tbody tr th:only-of-type {\n",
       "        vertical-align: middle;\n",
       "    }\n",
       "\n",
       "    .dataframe tbody tr th {\n",
       "        vertical-align: top;\n",
       "    }\n",
       "\n",
       "    .dataframe thead th {\n",
       "        text-align: right;\n",
       "    }\n",
       "</style>\n",
       "<table border=\"1\" class=\"dataframe\">\n",
       "  <thead>\n",
       "    <tr style=\"text-align: right;\">\n",
       "      <th></th>\n",
       "      <th>Returns</th>\n",
       "      <th>Combined CDF</th>\n",
       "    </tr>\n",
       "  </thead>\n",
       "  <tbody>\n",
       "    <tr>\n",
       "      <th>3957</th>\n",
       "      <td>-9.844768</td>\n",
       "      <td>0.000147</td>\n",
       "    </tr>\n",
       "    <tr>\n",
       "      <th>3989</th>\n",
       "      <td>-8.857804</td>\n",
       "      <td>0.000294</td>\n",
       "    </tr>\n",
       "    <tr>\n",
       "      <th>3945</th>\n",
       "      <td>-7.836161</td>\n",
       "      <td>0.000441</td>\n",
       "    </tr>\n",
       "    <tr>\n",
       "      <th>3983</th>\n",
       "      <td>-7.423317</td>\n",
       "      <td>0.000588</td>\n",
       "    </tr>\n",
       "    <tr>\n",
       "      <th>1198</th>\n",
       "      <td>-7.247340</td>\n",
       "      <td>0.000735</td>\n",
       "    </tr>\n",
       "  </tbody>\n",
       "</table>\n",
       "</div>"
      ],
      "text/plain": [
       "       Returns  Combined CDF\n",
       "3957 -9.844768      0.000147\n",
       "3989 -8.857804      0.000294\n",
       "3945 -7.836161      0.000441\n",
       "3983 -7.423317      0.000588\n",
       "1198 -7.247340      0.000735"
      ]
     },
     "execution_count": 14,
     "metadata": {},
     "output_type": "execute_result"
    }
   ],
   "source": [
    "# show the two new columns of updated table \n",
    "combinedCDF = MergeCDF(spy_div2)\n",
    "spy_div2['Combined CDF'] = combinedCDF\n",
    "spy_div2[['Returns', 'Combined CDF']].head()"
   ]
  },
  {
   "cell_type": "code",
   "execution_count": 15,
   "metadata": {
    "scrolled": false
   },
   "outputs": [
    {
     "data": {
      "image/png": "[encoded data removed]",
      "text/plain": [
       "<Figure size 576x432 with 1 Axes>"
      ]
     },
     "metadata": {},
     "output_type": "display_data"
    }
   ],
   "source": [
    "# here comes the plot\n",
    "plt.figure(figsize = (8,6))\n",
    "\n",
    "part_1c = plt.scatter(\"Returns\", 'Combined CDF', data = spy_div2)\n",
    "plt.title(\"Semi-Log Graph of the CDF and 1-CDF\")\n",
    "plt.xlabel('Return (%)')\n",
    "plt.ylabel('CDF, 1-CDF')\n",
    "plt.yscale('log')\n",
    "plt.xlim(-15,15)\n",
    "plt.ylim(10**-4, 1)\n",
    "plt.show()"
   ]
  },
  {
   "cell_type": "markdown",
   "metadata": {},
   "source": [
    "\\newpage"
   ]
  },
  {
   "cell_type": "markdown",
   "metadata": {},
   "source": [
    "# Part 1d"
   ]
  },
  {
   "cell_type": "code",
   "execution_count": 16,
   "metadata": {},
   "outputs": [
    {
     "data": {
      "text/plain": [
       "(0.043823216552580986, 1.1443420300488205)"
      ]
     },
     "execution_count": 16,
     "metadata": {},
     "output_type": "execute_result"
    }
   ],
   "source": [
    "# calculate the mean and the standard deviation of returns\n",
    "returns_mean = np.mean(spy_div2['Returns'])\n",
    "returns_sd = np.std(spy_div2['Returns'])\n",
    "returns_mean, returns_sd"
   ]
  },
  {
   "cell_type": "markdown",
   "metadata": {},
   "source": [
    "$\\textbf{Report:}$\n",
    "\n",
    "The $\\textbf{mean}$ of the returns is $\\textbf{0.0438}$ and the $\\textbf{SD}$ of the returns is $\\textbf{1.144}$"
   ]
  },
  {
   "cell_type": "code",
   "execution_count": 17,
   "metadata": {
    "scrolled": false
   },
   "outputs": [
    {
     "data": {
      "text/html": [
       "<div>\n",
       "<style scoped>\n",
       "    .dataframe tbody tr th:only-of-type {\n",
       "        vertical-align: middle;\n",
       "    }\n",
       "\n",
       "    .dataframe tbody tr th {\n",
       "        vertical-align: top;\n",
       "    }\n",
       "\n",
       "    .dataframe thead th {\n",
       "        text-align: right;\n",
       "    }\n",
       "</style>\n",
       "<table border=\"1\" class=\"dataframe\">\n",
       "  <thead>\n",
       "    <tr style=\"text-align: right;\">\n",
       "      <th></th>\n",
       "      <th>normal CDF</th>\n",
       "    </tr>\n",
       "  </thead>\n",
       "  <tbody>\n",
       "    <tr>\n",
       "      <th>3957</th>\n",
       "      <td>2.779087e-18</td>\n",
       "    </tr>\n",
       "    <tr>\n",
       "      <th>3989</th>\n",
       "      <td>3.660301e-15</td>\n",
       "    </tr>\n",
       "    <tr>\n",
       "      <th>3945</th>\n",
       "      <td>2.868348e-12</td>\n",
       "    </tr>\n",
       "    <tr>\n",
       "      <th>3983</th>\n",
       "      <td>3.393976e-11</td>\n",
       "    </tr>\n",
       "    <tr>\n",
       "      <th>1198</th>\n",
       "      <td>9.360033e-11</td>\n",
       "    </tr>\n",
       "  </tbody>\n",
       "</table>\n",
       "</div>"
      ],
      "text/plain": [
       "        normal CDF\n",
       "3957  2.779087e-18\n",
       "3989  3.660301e-15\n",
       "3945  2.868348e-12\n",
       "3983  3.393976e-11\n",
       "1198  9.360033e-11"
      ]
     },
     "execution_count": 17,
     "metadata": {},
     "output_type": "execute_result"
    }
   ],
   "source": [
    "# use the normal cdf from scipy.stats\n",
    "normal_returns = stats.norm.cdf(spy_div2['Returns'], returns_mean, returns_sd)\n",
    "spy_div2['normal CDF'] = normal_returns\n",
    "spy_div2[['normal CDF']].head()"
   ]
  },
  {
   "cell_type": "code",
   "execution_count": 18,
   "metadata": {},
   "outputs": [],
   "source": [
    "# create new column for 1-normal CDF\n",
    "spy_div2['1-normal CDF'] = 1-spy_div2['normal CDF']"
   ]
  },
  {
   "cell_type": "code",
   "execution_count": 19,
   "metadata": {
    "scrolled": false
   },
   "outputs": [],
   "source": [
    "# define new function, similar to previous function\n",
    "def MergeNormal(df):\n",
    "    returns = df['Returns'].tolist()\n",
    "    cdf = df['normal CDF'].tolist()\n",
    "    inv_cdf = df['1-normal CDF'].tolist()\n",
    "    empty = np.array([])\n",
    "    \n",
    "    for i in range(0, len(returns)):\n",
    "        if returns[i] <0:\n",
    "            empty = np.append(empty, cdf[i])\n",
    "        elif returns[i]>=0:\n",
    "            empty = np.append(empty, inv_cdf[i])\n",
    "    return empty        "
   ]
  },
  {
   "cell_type": "code",
   "execution_count": 20,
   "metadata": {},
   "outputs": [
    {
     "data": {
      "text/html": [
       "<div>\n",
       "<style scoped>\n",
       "    .dataframe tbody tr th:only-of-type {\n",
       "        vertical-align: middle;\n",
       "    }\n",
       "\n",
       "    .dataframe tbody tr th {\n",
       "        vertical-align: top;\n",
       "    }\n",
       "\n",
       "    .dataframe thead th {\n",
       "        text-align: right;\n",
       "    }\n",
       "</style>\n",
       "<table border=\"1\" class=\"dataframe\">\n",
       "  <thead>\n",
       "    <tr style=\"text-align: right;\">\n",
       "      <th></th>\n",
       "      <th>normal CDF</th>\n",
       "      <th>1-normal CDF</th>\n",
       "      <th>Merged Normal</th>\n",
       "    </tr>\n",
       "  </thead>\n",
       "  <tbody>\n",
       "    <tr>\n",
       "      <th>3957</th>\n",
       "      <td>2.779087e-18</td>\n",
       "      <td>1.0</td>\n",
       "      <td>2.779087e-18</td>\n",
       "    </tr>\n",
       "    <tr>\n",
       "      <th>3989</th>\n",
       "      <td>3.660301e-15</td>\n",
       "      <td>1.0</td>\n",
       "      <td>3.660301e-15</td>\n",
       "    </tr>\n",
       "    <tr>\n",
       "      <th>3945</th>\n",
       "      <td>2.868348e-12</td>\n",
       "      <td>1.0</td>\n",
       "      <td>2.868348e-12</td>\n",
       "    </tr>\n",
       "    <tr>\n",
       "      <th>3983</th>\n",
       "      <td>3.393976e-11</td>\n",
       "      <td>1.0</td>\n",
       "      <td>3.393976e-11</td>\n",
       "    </tr>\n",
       "    <tr>\n",
       "      <th>1198</th>\n",
       "      <td>9.360033e-11</td>\n",
       "      <td>1.0</td>\n",
       "      <td>9.360033e-11</td>\n",
       "    </tr>\n",
       "  </tbody>\n",
       "</table>\n",
       "</div>"
      ],
      "text/plain": [
       "        normal CDF  1-normal CDF  Merged Normal\n",
       "3957  2.779087e-18           1.0   2.779087e-18\n",
       "3989  3.660301e-15           1.0   3.660301e-15\n",
       "3945  2.868348e-12           1.0   2.868348e-12\n",
       "3983  3.393976e-11           1.0   3.393976e-11\n",
       "1198  9.360033e-11           1.0   9.360033e-11"
      ]
     },
     "execution_count": 20,
     "metadata": {},
     "output_type": "execute_result"
    }
   ],
   "source": [
    "# apply function on dataframe\n",
    "normalMerged = MergeNormal(spy_div2)\n",
    "spy_div2['Merged Normal'] = normalMerged\n",
    "spy_div2[['normal CDF', '1-normal CDF', 'Merged Normal']].head()"
   ]
  },
  {
   "cell_type": "code",
   "execution_count": 21,
   "metadata": {},
   "outputs": [
    {
     "data": {
      "image/png": "[encoded data removed]",
      "text/plain": [
       "<Figure size 576x432 with 1 Axes>"
      ]
     },
     "metadata": {},
     "output_type": "display_data"
    }
   ],
   "source": [
    "# here is the overlaid plot on 1d\n",
    "plt.figure(figsize = (8,6))\n",
    "plt.plot(\"Returns\", 'Merged Normal', data = spy_div2, \n",
    "         label = \"Gaussian\", color= 'black', linewidth = 2)\n",
    "plt.scatter('Returns', 'Combined CDF', data = spy_div2, \n",
    "            color = \"r\", label = 'SPY CRD')\n",
    "\n",
    "plt.yscale('log')\n",
    "plt.xlim(-15,15)\n",
    "plt.ylim(10**-4, 1)\n",
    "plt.title('Semi-log SPY CRD and Gaussian')\n",
    "plt.xlabel('Return (%)')\n",
    "plt.ylabel('CDF, 1-CDF')\n",
    "plt.legend()\n",
    "plt.show()"
   ]
  },
  {
   "cell_type": "markdown",
   "metadata": {},
   "source": [
    "\\newpage"
   ]
  },
  {
   "cell_type": "markdown",
   "metadata": {},
   "source": [
    "# Part 1e"
   ]
  },
  {
   "cell_type": "code",
   "execution_count": 22,
   "metadata": {},
   "outputs": [],
   "source": [
    "# take natural log of the log cdf and the 1-cdf (survival function)\n",
    "spy_div2['Log Combined CDF'] = np.log(spy_div2['Combined CDF'])"
   ]
  },
  {
   "cell_type": "code",
   "execution_count": 23,
   "metadata": {},
   "outputs": [],
   "source": [
    "# normalize returns\n",
    "normed_returns = np.abs((spy_div2['Returns']- returns_mean))/returns_sd\n",
    "n2 = normed_returns.copy()\n",
    "\n",
    "spy_div_3 = spy_div2.copy()\n",
    "spy_div_4 = spy_div_3[[\"Log Combined CDF\"]]"
   ]
  },
  {
   "cell_type": "code",
   "execution_count": 24,
   "metadata": {},
   "outputs": [
    {
     "data": {
      "text/html": [
       "<div>\n",
       "<style scoped>\n",
       "    .dataframe tbody tr th:only-of-type {\n",
       "        vertical-align: middle;\n",
       "    }\n",
       "\n",
       "    .dataframe tbody tr th {\n",
       "        vertical-align: top;\n",
       "    }\n",
       "\n",
       "    .dataframe thead th {\n",
       "        text-align: right;\n",
       "    }\n",
       "</style>\n",
       "<table border=\"1\" class=\"dataframe\">\n",
       "  <thead>\n",
       "    <tr style=\"text-align: right;\">\n",
       "      <th></th>\n",
       "      <th>Log Combined CDF</th>\n",
       "      <th>abs_ret</th>\n",
       "      <th>lnret</th>\n",
       "    </tr>\n",
       "  </thead>\n",
       "  <tbody>\n",
       "    <tr>\n",
       "      <th>3957</th>\n",
       "      <td>-8.825413</td>\n",
       "      <td>8.641290</td>\n",
       "      <td>2.156552</td>\n",
       "    </tr>\n",
       "    <tr>\n",
       "      <th>3989</th>\n",
       "      <td>-8.132266</td>\n",
       "      <td>7.778817</td>\n",
       "      <td>2.051404</td>\n",
       "    </tr>\n",
       "    <tr>\n",
       "      <th>3945</th>\n",
       "      <td>-7.726801</td>\n",
       "      <td>6.886040</td>\n",
       "      <td>1.929496</td>\n",
       "    </tr>\n",
       "    <tr>\n",
       "      <th>3983</th>\n",
       "      <td>-7.439119</td>\n",
       "      <td>6.525269</td>\n",
       "      <td>1.875682</td>\n",
       "    </tr>\n",
       "    <tr>\n",
       "      <th>1198</th>\n",
       "      <td>-7.215975</td>\n",
       "      <td>6.371490</td>\n",
       "      <td>1.851833</td>\n",
       "    </tr>\n",
       "  </tbody>\n",
       "</table>\n",
       "</div>"
      ],
      "text/plain": [
       "      Log Combined CDF   abs_ret     lnret\n",
       "3957         -8.825413  8.641290  2.156552\n",
       "3989         -8.132266  7.778817  2.051404\n",
       "3945         -7.726801  6.886040  1.929496\n",
       "3983         -7.439119  6.525269  1.875682\n",
       "1198         -7.215975  6.371490  1.851833"
      ]
     },
     "execution_count": 24,
     "metadata": {},
     "output_type": "execute_result"
    }
   ],
   "source": [
    "# create new columns \n",
    "spy_div_4[\"abs_ret\"] = normed_returns\n",
    "spy_div_4[\"lnret\"] = np.log(normed_returns)\n",
    "\n",
    "# filter table for absolute normalized returns > 2\n",
    "spy_div_5 = spy_div_4[spy_div_4[\"abs_ret\"] > 2]\n",
    "spy_div_5.head()"
   ]
  },
  {
   "cell_type": "code",
   "execution_count": 25,
   "metadata": {},
   "outputs": [
    {
     "data": {
      "image/png": "[encoded data removed]",
      "text/plain": [
       "<Figure size 576x432 with 1 Axes>"
      ]
     },
     "metadata": {},
     "output_type": "display_data"
    }
   ],
   "source": [
    "# here is the plot with the overlaid line\n",
    "x = spy_div_5['lnret']\n",
    "y = spy_div_5['Log Combined CDF']\n",
    "\n",
    "plt.figure(figsize = (8,6))\n",
    "plt.scatter(spy_div_5[\"lnret\"], spy_div_5[\"Log Combined CDF\"])\n",
    "\n",
    "slope, intercept, r_value, p_value, std_err = stats.linregress(x,y)\n",
    "line = slope*x+intercept\n",
    "plt.plot(x, line, 'r', label='y={:.2f}x+{:.2f}'.format(slope,intercept))\n",
    "plt.scatter(x,y, color=\"k\", s=3.5)\n",
    "plt.xlim(0,3)\n",
    "plt.ylim(-10,-2)\n",
    "plt.title('SPY CDF against Log Abs Returns')\n",
    "plt.xlabel('Log normalized returns (%)')\n",
    "plt.ylabel('Log CDF, 1-CDF')\n",
    "\n",
    "plt.legend()\n",
    "plt.show()"
   ]
  },
  {
   "cell_type": "code",
   "execution_count": 26,
   "metadata": {},
   "outputs": [
    {
     "data": {
      "text/plain": [
       "0.9831399329996151"
      ]
     },
     "execution_count": 26,
     "metadata": {},
     "output_type": "execute_result"
    }
   ],
   "source": [
    "# calculate the R squared\n",
    "r_value**2"
   ]
  },
  {
   "cell_type": "markdown",
   "metadata": {},
   "source": [
    "$\\textbf{The equation is:}$\n",
    "\n",
    "$\\ln P(|r| > x) = -3.11 \\ln(x_{SPY}) - 1.46$ \n",
    "\n",
    "with $R^2$ of 0.98"
   ]
  },
  {
   "cell_type": "markdown",
   "metadata": {},
   "source": [
    "$\\textbf{Explanation:}$ \n",
    "\n",
    "The $\\zeta_r$ I get from the Gabaix Power law is 3.11, which is around 3, which corresponds to a finite variance in his article. It is also >2 (if $\\zeta$ is around 2 Gabaix says are not Levy distributed and may have a infinite variance)."
   ]
  },
  {
   "cell_type": "markdown",
   "metadata": {},
   "source": [
    "\\newpage"
   ]
  },
  {
   "cell_type": "markdown",
   "metadata": {},
   "source": [
    "# Problem 2"
   ]
  },
  {
   "cell_type": "markdown",
   "metadata": {},
   "source": [
    "Using the data for the SPY ETF from question 1 above, if the SPY ETF has a closing price of USD 332.20:\n",
    "\n",
    "(a)  Estimate the one-day VaR at a 97.5% confidence level.\n",
    "\n",
    "(b)  Estimate the leverage you would offer to a client who wanted to borrow moneyto buy one SPY ETF if your firm requires the client to put up enough of theirown money to cover 98% of one-day moves in the market.  Leverage is the relative amounts of (i) the amount of asset the client can buy (i.e., the sum of the client’s money and your loan to the client), divided by (ii) the amount of money the client put up.  For example, if the client puts up 5 USD and borrows 5 USD to buy anasset that costs 10 USD then the leverage is 2:1.  Similarly, if the client put up 1USD and borrows 9 USD to buy an asset that costs 10 USD the leverage if 10:1."
   ]
  },
  {
   "cell_type": "markdown",
   "metadata": {},
   "source": [
    "## Part 2a"
   ]
  },
  {
   "cell_type": "code",
   "execution_count": 27,
   "metadata": {},
   "outputs": [
    {
     "data": {
      "text/html": [
       "<div>\n",
       "<style scoped>\n",
       "    .dataframe tbody tr th:only-of-type {\n",
       "        vertical-align: middle;\n",
       "    }\n",
       "\n",
       "    .dataframe tbody tr th {\n",
       "        vertical-align: top;\n",
       "    }\n",
       "\n",
       "    .dataframe thead th {\n",
       "        text-align: right;\n",
       "    }\n",
       "</style>\n",
       "<table border=\"1\" class=\"dataframe\">\n",
       "  <thead>\n",
       "    <tr style=\"text-align: right;\">\n",
       "      <th></th>\n",
       "      <th>Returns</th>\n",
       "      <th>CDF</th>\n",
       "    </tr>\n",
       "  </thead>\n",
       "  <tbody>\n",
       "    <tr>\n",
       "      <th>2519</th>\n",
       "      <td>-2.370494</td>\n",
       "      <td>0.024982</td>\n",
       "    </tr>\n",
       "    <tr>\n",
       "      <th>3648</th>\n",
       "      <td>-2.367916</td>\n",
       "      <td>0.025129</td>\n",
       "    </tr>\n",
       "  </tbody>\n",
       "</table>\n",
       "</div>"
      ],
      "text/plain": [
       "       Returns       CDF\n",
       "2519 -2.370494  0.024982\n",
       "3648 -2.367916  0.025129"
      ]
     },
     "execution_count": 27,
     "metadata": {},
     "output_type": "execute_result"
    }
   ],
   "source": [
    "spy_div2[spy_div2['CDF'] >= 0.0249][['Returns','CDF']].head(2)"
   ]
  },
  {
   "cell_type": "markdown",
   "metadata": {},
   "source": [
    "$\\textbf{Answer:}$\n",
    "\n",
    "The One-Day VaR is related to the price change that is associated with the CDF level of $2.5 \\times 10^{-2}$, which is 0.025 for confidence interval 97.5%\n",
    "\n",
    "Above I have attached the table that gets this price change.\n",
    "\n",
    "From the plot in 1D, the return that is around -2.367% (using confidence level of 97.5%).\n",
    "\n",
    "Given the closing price of 332.20, the VaR would be about $332.20 \\times 0.02367 = \\textbf{USD 7.86}$"
   ]
  },
  {
   "cell_type": "markdown",
   "metadata": {},
   "source": [
    "## Part 2b"
   ]
  },
  {
   "cell_type": "code",
   "execution_count": 28,
   "metadata": {
    "scrolled": false
   },
   "outputs": [
    {
     "data": {
      "text/html": [
       "<div>\n",
       "<style scoped>\n",
       "    .dataframe tbody tr th:only-of-type {\n",
       "        vertical-align: middle;\n",
       "    }\n",
       "\n",
       "    .dataframe tbody tr th {\n",
       "        vertical-align: top;\n",
       "    }\n",
       "\n",
       "    .dataframe thead th {\n",
       "        text-align: right;\n",
       "    }\n",
       "</style>\n",
       "<table border=\"1\" class=\"dataframe\">\n",
       "  <thead>\n",
       "    <tr style=\"text-align: right;\">\n",
       "      <th></th>\n",
       "      <th>Returns</th>\n",
       "      <th>CDF</th>\n",
       "    </tr>\n",
       "  </thead>\n",
       "  <tbody>\n",
       "    <tr>\n",
       "      <th>4385</th>\n",
       "      <td>-3.08751</td>\n",
       "      <td>0.01014</td>\n",
       "    </tr>\n",
       "  </tbody>\n",
       "</table>\n",
       "</div>"
      ],
      "text/plain": [
       "      Returns      CDF\n",
       "4385 -3.08751  0.01014"
      ]
     },
     "execution_count": 28,
     "metadata": {},
     "output_type": "execute_result"
    }
   ],
   "source": [
    "# checking the LEFT side outside 98% Confidence Interval\n",
    "spy_div2[spy_div2['CDF'] >= 0.01][['Returns','CDF']].head(1)"
   ]
  },
  {
   "cell_type": "code",
   "execution_count": 29,
   "metadata": {},
   "outputs": [
    {
     "data": {
      "text/html": [
       "<div>\n",
       "<style scoped>\n",
       "    .dataframe tbody tr th:only-of-type {\n",
       "        vertical-align: middle;\n",
       "    }\n",
       "\n",
       "    .dataframe tbody tr th {\n",
       "        vertical-align: top;\n",
       "    }\n",
       "\n",
       "    .dataframe thead th {\n",
       "        text-align: right;\n",
       "    }\n",
       "</style>\n",
       "<table border=\"1\" class=\"dataframe\">\n",
       "  <thead>\n",
       "    <tr style=\"text-align: right;\">\n",
       "      <th></th>\n",
       "      <th>Returns</th>\n",
       "      <th>CDF</th>\n",
       "    </tr>\n",
       "  </thead>\n",
       "  <tbody>\n",
       "    <tr>\n",
       "      <th>1159</th>\n",
       "      <td>3.250346</td>\n",
       "      <td>0.990007</td>\n",
       "    </tr>\n",
       "  </tbody>\n",
       "</table>\n",
       "</div>"
      ],
      "text/plain": [
       "       Returns       CDF\n",
       "1159  3.250346  0.990007"
      ]
     },
     "execution_count": 29,
     "metadata": {},
     "output_type": "execute_result"
    }
   ],
   "source": [
    "# checking the RIGHT side outside 98% condidence Interval\n",
    "spy_div2[spy_div2['CDF'] >= 0.99][['Returns','CDF']].head(1)"
   ]
  },
  {
   "cell_type": "markdown",
   "metadata": {},
   "source": [
    "$\\textbf{Answer:}$\n",
    "\n",
    "Given we are using a 98% confidence interval, I will look at the intersection of the empirical density of 0.02 on both directions, using the CDF and 1-CDF (survival function). We are given that 98% of one-day price moves correspond to the range of returns in between the CDF of $2 \\times 10^{-2}$ on both sides.\n",
    "\n",
    "The intersection on left side correspondings to around a -3.08% and a +3.25% return on the right side. This means there is a $0.02$ probability of getting a worse than -3.08% return and a return better than +3.25%. \n",
    "\n",
    "In between these two returns (-3.08%, 3.25%), around 98% of the one-day moves market lie within.\n",
    "\n",
    "We would require the client to put up $332.20 \\times 0.0325 = 10.41$ dollars of his/her own money and the leverage would be $332.20:10.41$, which simplifies to $\\textbf{31.9 : 1}$"
   ]
  },
  {
   "cell_type": "markdown",
   "metadata": {},
   "source": [
    "\\newpage"
   ]
  },
  {
   "cell_type": "markdown",
   "metadata": {},
   "source": [
    "# Problem 4"
   ]
  },
  {
   "cell_type": "markdown",
   "metadata": {},
   "source": [
    "4.  Federal Reserve Board Regulation T (Reg. T) allows an initial margin on stock pur-chases of 50% regardless of the volatility of the stock (i.e. 2:1 leverage).  The marginof retail accounts is typically governed by Reg. T. By contrast, the margin of professional trading accounts is generally governed by something like SPAN. You see that the hedge fund you recently joined maintains both a retail account and a professional trading account.  If your hedge fund is trying to minimize the amount of capital in themargin accounts, in which account will the low-volatility assets be kept and why?"
   ]
  },
  {
   "cell_type": "markdown",
   "metadata": {},
   "source": [
    "$\\textbf{Answer:}$\n",
    "\n",
    "Between the two, I would keep the low-volatility assets in the professional trading account since the professional trading account assesses risk capital in a way that is based on the volatility of the underlying.\n",
    "\n",
    "Now, this way of assessment based on volatility makes it possible that risk capital can be less than the 50% (2:1 leverage) required by Reg T. \n",
    "\n",
    "Then, the risk capital can be minimized by having these low volatility assets in a professional trading account rather than a retail account."
   ]
  }
 ],
 "metadata": {
  "kernelspec": {
   "display_name": "Python 3",
   "language": "python",
   "name": "python3"
  },
  "language_info": {
   "codemirror_mode": {
    "name": "ipython",
    "version": 3
   },
   "file_extension": ".py",
   "mimetype": "text/x-python",
   "name": "python",
   "nbconvert_exporter": "python",
   "pygments_lexer": "ipython3",
   "version": "3.6.9"
  }
 },
 "nbformat": 4,
 "nbformat_minor": 4
}
