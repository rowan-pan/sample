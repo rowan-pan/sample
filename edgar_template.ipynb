{
 "cells": [
  {
   "cell_type": "markdown",
   "metadata": {},
   "source": [
    "# SEC EDGAR Scraping Notebook"
   ]
  },
  {
   "cell_type": "markdown",
   "metadata": {},
   "source": [
    "@author: Rowan Pan"
   ]
  },
  {
   "cell_type": "markdown",
   "metadata": {},
   "source": [
    "## Import BeautifulSoup"
   ]
  },
  {
   "cell_type": "code",
   "execution_count": 1,
   "metadata": {},
   "outputs": [],
   "source": [
    "from bs4 import BeautifulSoup\n",
    "import requests"
   ]
  },
  {
   "cell_type": "code",
   "execution_count": 2,
   "metadata": {},
   "outputs": [],
   "source": [
    "import pandas as pd\n",
    "import numpy as np"
   ]
  },
  {
   "cell_type": "code",
   "execution_count": 3,
   "metadata": {},
   "outputs": [],
   "source": [
    "base_url = r\"https://www.sec.gov/Archives/edgar/data\""
   ]
  },
  {
   "cell_type": "markdown",
   "metadata": {},
   "source": [
    "## Enter CIK Number HERE"
   ]
  },
  {
   "cell_type": "code",
   "execution_count": 4,
   "metadata": {},
   "outputs": [],
   "source": [
    "cik_num = '/902012/' # Bill Gates\n",
    "#'/1043298/' Jeff Bezos"
   ]
  },
  {
   "cell_type": "code",
   "execution_count": 5,
   "metadata": {},
   "outputs": [],
   "source": [
    "filings_url = base_url + cik_num + \"/index.json\""
   ]
  },
  {
   "cell_type": "code",
   "execution_count": 6,
   "metadata": {
    "scrolled": true
   },
   "outputs": [],
   "source": [
    "content = requests.get(filings_url)\n",
    "decoded_content = content.json()\n",
    "# decoded_content\n",
    "# no need to print all this out usually"
   ]
  },
  {
   "cell_type": "code",
   "execution_count": 7,
   "metadata": {},
   "outputs": [],
   "source": [
    "back_up = decoded_content['directory']['item']"
   ]
  },
  {
   "cell_type": "markdown",
   "metadata": {},
   "source": [
    "## These indexes are the entries from 2017 and after"
   ]
  },
  {
   "cell_type": "code",
   "execution_count": 8,
   "metadata": {
    "scrolled": true
   },
   "outputs": [],
   "source": [
    "after_2017 = [i for i in np.arange(len(back_up)) if int(decoded_content['directory']['item'][i]['last-modified'][0:4]) > 2016]"
   ]
  },
  {
   "cell_type": "code",
   "execution_count": 9,
   "metadata": {},
   "outputs": [
    {
     "data": {
      "text/plain": [
       "18"
      ]
     },
     "execution_count": 9,
     "metadata": {},
     "output_type": "execute_result"
    }
   ],
   "source": [
    "len(after_2017)"
   ]
  },
  {
   "cell_type": "code",
   "execution_count": 10,
   "metadata": {
    "scrolled": true
   },
   "outputs": [
    {
     "data": {
      "text/plain": [
       "984"
      ]
     },
     "execution_count": 10,
     "metadata": {},
     "output_type": "execute_result"
    }
   ],
   "source": [
    "len(decoded_content['directory']['item'])"
   ]
  },
  {
   "cell_type": "code",
   "execution_count": 11,
   "metadata": {},
   "outputs": [
    {
     "name": "stdout",
     "output_type": "stream",
     "text": [
      "https://www.sec.gov/Archives/edgar/data/902012/000110465920073034/a4.xml\n",
      "https://www.sec.gov/Archives/edgar/data/902012/000110465920071037/a3.xml\n",
      "https://www.sec.gov/Archives/edgar/data/902012/000110465919049112/a3.xml\n",
      "https://www.sec.gov/Archives/edgar/data/902012/000110465918018418/a4.xml\n",
      "https://www.sec.gov/Archives/edgar/data/902012/000110465918017529/a4.xml\n",
      "https://www.sec.gov/Archives/edgar/data/902012/000122520818005874/doc4.xml\n",
      "https://www.sec.gov/Archives/edgar/data/902012/000110465917070230/a4.xml\n",
      "https://www.sec.gov/Archives/edgar/data/902012/000122520817016037/doc3.xml\n",
      "https://www.sec.gov/Archives/edgar/data/902012/000122520817013968/doc5.xml\n",
      "https://www.sec.gov/Archives/edgar/data/902012/000122520817013341/doc4.xml\n",
      "https://www.sec.gov/Archives/edgar/data/902012/000122520817009254/doc4.xml\n",
      "https://www.sec.gov/Archives/edgar/data/902012/000122520817009147/doc4.xml\n",
      "https://www.sec.gov/Archives/edgar/data/902012/000122520817009034/doc4.xml\n",
      "https://www.sec.gov/Archives/edgar/data/902012/000122520817002348/doc4.xml\n",
      "https://www.sec.gov/Archives/edgar/data/902012/000122520817002266/doc4.xml\n",
      "https://www.sec.gov/Archives/edgar/data/902012/000122520817002185/doc4.xml\n"
     ]
    }
   ],
   "source": [
    "# cik number again\n",
    "cik_num = '/902012/'\n",
    "\n",
    "filings_url = base_url + cik_num + \"/index.json\"\n",
    "\n",
    "content = requests.get(filings_url)\n",
    "decoded_content = content.json()\n",
    "\n",
    "url_list = []\n",
    "\n",
    "for filing in decoded_content['directory']['item'][0:len(after_2017)]:\n",
    "    \n",
    "    filing_num = filing['name']\n",
    "    \n",
    "    filing_url = base_url + cik_num + filing_num + \"/index.json\"\n",
    "    \n",
    "    content = requests.get(filing_url)\n",
    "    document_content = content.json()\n",
    "    \n",
    "    # print all the url's for this CIK\n",
    "    \n",
    "    for document in document_content['directory']['item'][0:len(after_2017)]:\n",
    " \n",
    "        if 'xml' in document['name']:\n",
    " \n",
    "            doc_name = document['name']\n",
    "            document_url = base_url + cik_num + filing_num + '/' + doc_name\n",
    "            print(document_url)\n",
    "            url_list.append(document_url)"
   ]
  },
  {
   "cell_type": "code",
   "execution_count": 12,
   "metadata": {
    "scrolled": false
   },
   "outputs": [
    {
     "data": {
      "text/plain": [
       "16"
      ]
     },
     "execution_count": 12,
     "metadata": {},
     "output_type": "execute_result"
    }
   ],
   "source": [
    "len(url_list)"
   ]
  },
  {
   "cell_type": "code",
   "execution_count": 13,
   "metadata": {},
   "outputs": [],
   "source": [
    "soup = []\n",
    "\n",
    "for url in url_list:\n",
    "    xml_data = requests.get(url).content\n",
    "    soup.append(BeautifulSoup(xml_data, 'xml'))"
   ]
  },
  {
   "cell_type": "code",
   "execution_count": 14,
   "metadata": {
    "scrolled": false
   },
   "outputs": [
    {
     "data": {
      "text/plain": [
       "16"
      ]
     },
     "execution_count": 14,
     "metadata": {},
     "output_type": "execute_result"
    }
   ],
   "source": [
    "len(soup)"
   ]
  },
  {
   "cell_type": "code",
   "execution_count": 15,
   "metadata": {},
   "outputs": [],
   "source": [
    "shares = []\n",
    "form = []\n",
    "dates = []\n",
    "price = []\n",
    "shares_after = []\n",
    "ad_code = []\n",
    "title = []\n",
    "city = []\n",
    "name = []\n",
    "\n",
    "for i in np.arange(len(soup)):\n",
    "    if soup[i].find('documentType').text == '4'and (\n",
    "        soup[i].find('securityTitle').text.strip()!= 'Convertible Promissory Note'):\n",
    "        for result in soup[i].find_all('transactionShares'):\n",
    "            shares.append(result.text.strip())\n",
    "        for result in soup[i].find_all('transactionFormType'):\n",
    "            form.append(result.text.strip())\n",
    "        for result in soup[i].find_all('transactionDate'):\n",
    "            dates.append(result.text.strip())\n",
    "        for result in soup[i].find_all('transactionPricePerShare'):\n",
    "            price.append(result.text.strip())\n",
    "        for result in soup[i].find_all('sharesOwnedFollowingTransaction'):\n",
    "            shares_after.append(result.text.strip())\n",
    "        for result in soup[i].find_all('transactionAcquiredDisposedCode'):\n",
    "            ad_code.append(result.text.strip())\n",
    "        for result in soup[i].find_all('securityTitle'):\n",
    "            title.append(result.text.strip())\n",
    "        \n",
    "        # for later\n",
    "        for result in soup[i].find_all('rptOwnerCity'):\n",
    "            city.append(result.text.strip())\n",
    "        for result in soup[i].find_all('rptOwnerName'):\n",
    "            name.append(result.text.strip())\n",
    "        \n",
    "    \n",
    "    "
   ]
  },
  {
   "cell_type": "code",
   "execution_count": 16,
   "metadata": {
    "scrolled": true
   },
   "outputs": [
    {
     "data": {
      "text/plain": [
       "(29, 29, 29, 29, 29, 29, 29)"
      ]
     },
     "execution_count": 16,
     "metadata": {},
     "output_type": "execute_result"
    }
   ],
   "source": [
    "len(shares_after), len(form), len(dates), len(ad_code), len(price), len(title), len(shares)"
   ]
  },
  {
   "cell_type": "code",
   "execution_count": 17,
   "metadata": {},
   "outputs": [],
   "source": [
    "df = pd.DataFrame({\n",
    "    \"Dates\" : dates,\n",
    "    \"Form\" : form,\n",
    "    \"Shares\" : shares,\n",
    "    \"Shares After\": shares_after,\n",
    "    \"Price\" : price,\n",
    "    \"A/D Code\": ad_code,\n",
    "    \"Security Title\": title\n",
    "})"
   ]
  },
  {
   "cell_type": "code",
   "execution_count": 18,
   "metadata": {},
   "outputs": [],
   "source": [
    "df.insert(0, 'Name', max(set(name), key = name.count))\n",
    "df.insert(1, 'City', max(set(city), key = city.count))"
   ]
  },
  {
   "cell_type": "code",
   "execution_count": 19,
   "metadata": {
    "scrolled": true
   },
   "outputs": [
    {
     "data": {
      "text/plain": [
       "[<rptOwnerCity>REDMOND</rptOwnerCity>, <rptOwnerCity>KIRKLAND</rptOwnerCity>]"
      ]
     },
     "execution_count": 19,
     "metadata": {},
     "output_type": "execute_result"
    }
   ],
   "source": [
    "# there can be multiple cities, like for Bill Gates\n",
    "soup[5].find_all('rptOwnerCity')"
   ]
  },
  {
   "cell_type": "code",
   "execution_count": 20,
   "metadata": {},
   "outputs": [
    {
     "data": {
      "text/plain": [
       "[<rptOwnerName>GATES WILLIAM H III</rptOwnerName>,\n",
       " <rptOwnerName>CASCADE INVESTMENT, L.L.C.</rptOwnerName>]"
      ]
     },
     "execution_count": 20,
     "metadata": {},
     "output_type": "execute_result"
    }
   ],
   "source": [
    "# also can be multiple report owners\n",
    "soup[5].find_all('rptOwnerName')"
   ]
  },
  {
   "cell_type": "code",
   "execution_count": 21,
   "metadata": {},
   "outputs": [
    {
     "data": {
      "text/plain": [
       "'REDMOND'"
      ]
     },
     "execution_count": 21,
     "metadata": {},
     "output_type": "execute_result"
    }
   ],
   "source": [
    "# most common city \n",
    "max(set(city), key = city.count)"
   ]
  },
  {
   "cell_type": "code",
   "execution_count": 22,
   "metadata": {},
   "outputs": [
    {
     "data": {
      "text/plain": [
       "'GATES WILLIAM H III'"
      ]
     },
     "execution_count": 22,
     "metadata": {},
     "output_type": "execute_result"
    }
   ],
   "source": [
    "# most common name\n",
    "max(set(name), key = name.count)"
   ]
  },
  {
   "cell_type": "code",
   "execution_count": 23,
   "metadata": {
    "scrolled": false
   },
   "outputs": [
    {
     "data": {
      "text/html": [
       "<div>\n",
       "<style scoped>\n",
       "    .dataframe tbody tr th:only-of-type {\n",
       "        vertical-align: middle;\n",
       "    }\n",
       "\n",
       "    .dataframe tbody tr th {\n",
       "        vertical-align: top;\n",
       "    }\n",
       "\n",
       "    .dataframe thead th {\n",
       "        text-align: right;\n",
       "    }\n",
       "</style>\n",
       "<table border=\"1\" class=\"dataframe\">\n",
       "  <thead>\n",
       "    <tr style=\"text-align: right;\">\n",
       "      <th></th>\n",
       "      <th>Name</th>\n",
       "      <th>City</th>\n",
       "      <th>Dates</th>\n",
       "      <th>Form</th>\n",
       "      <th>Shares</th>\n",
       "      <th>Shares After</th>\n",
       "      <th>Price</th>\n",
       "      <th>A/D Code</th>\n",
       "      <th>Security Title</th>\n",
       "    </tr>\n",
       "  </thead>\n",
       "  <tbody>\n",
       "    <tr>\n",
       "      <th>0</th>\n",
       "      <td>GATES WILLIAM H III</td>\n",
       "      <td>REDMOND</td>\n",
       "      <td>2020-06-11</td>\n",
       "      <td>4</td>\n",
       "      <td>6771076</td>\n",
       "      <td>6771076</td>\n",
       "      <td></td>\n",
       "      <td>A</td>\n",
       "      <td>Common stock</td>\n",
       "    </tr>\n",
       "    <tr>\n",
       "      <th>1</th>\n",
       "      <td>GATES WILLIAM H III</td>\n",
       "      <td>REDMOND</td>\n",
       "      <td>2020-06-11</td>\n",
       "      <td>4</td>\n",
       "      <td>2785365</td>\n",
       "      <td>0</td>\n",
       "      <td></td>\n",
       "      <td>D</td>\n",
       "      <td>Series G preferred stock</td>\n",
       "    </tr>\n",
       "    <tr>\n",
       "      <th>2</th>\n",
       "      <td>GATES WILLIAM H III</td>\n",
       "      <td>REDMOND</td>\n",
       "      <td>2020-06-11</td>\n",
       "      <td>4</td>\n",
       "      <td>600173</td>\n",
       "      <td>0</td>\n",
       "      <td></td>\n",
       "      <td>D</td>\n",
       "      <td>Series H preferred stock</td>\n",
       "    </tr>\n",
       "    <tr>\n",
       "      <th>3</th>\n",
       "      <td>GATES WILLIAM H III</td>\n",
       "      <td>REDMOND</td>\n",
       "      <td>2018-03-14</td>\n",
       "      <td>4</td>\n",
       "      <td>15552</td>\n",
       "      <td>30209607</td>\n",
       "      <td>137.2626</td>\n",
       "      <td>A</td>\n",
       "      <td>Common Stock</td>\n",
       "    </tr>\n",
       "    <tr>\n",
       "      <th>4</th>\n",
       "      <td>GATES WILLIAM H III</td>\n",
       "      <td>REDMOND</td>\n",
       "      <td>2018-03-14</td>\n",
       "      <td>4</td>\n",
       "      <td>98216</td>\n",
       "      <td>30307823</td>\n",
       "      <td>136.8334</td>\n",
       "      <td>A</td>\n",
       "      <td>Common Stock</td>\n",
       "    </tr>\n",
       "    <tr>\n",
       "      <th>5</th>\n",
       "      <td>GATES WILLIAM H III</td>\n",
       "      <td>REDMOND</td>\n",
       "      <td>2018-03-15</td>\n",
       "      <td>4</td>\n",
       "      <td>301931</td>\n",
       "      <td>30609754</td>\n",
       "      <td>136.6253</td>\n",
       "      <td>A</td>\n",
       "      <td>Common Stock</td>\n",
       "    </tr>\n",
       "    <tr>\n",
       "      <th>6</th>\n",
       "      <td>GATES WILLIAM H III</td>\n",
       "      <td>REDMOND</td>\n",
       "      <td>2018-03-16</td>\n",
       "      <td>4</td>\n",
       "      <td>32300</td>\n",
       "      <td>30642054</td>\n",
       "      <td>137.9351</td>\n",
       "      <td>A</td>\n",
       "      <td>Common Stock</td>\n",
       "    </tr>\n",
       "    <tr>\n",
       "      <th>7</th>\n",
       "      <td>GATES WILLIAM H III</td>\n",
       "      <td>REDMOND</td>\n",
       "      <td>2018-03-16</td>\n",
       "      <td>4</td>\n",
       "      <td>43500</td>\n",
       "      <td>30685554</td>\n",
       "      <td>137.2272</td>\n",
       "      <td>A</td>\n",
       "      <td>Common Stock</td>\n",
       "    </tr>\n",
       "    <tr>\n",
       "      <th>8</th>\n",
       "      <td>GATES WILLIAM H III</td>\n",
       "      <td>REDMOND</td>\n",
       "      <td>2018-03-12</td>\n",
       "      <td>4</td>\n",
       "      <td>20540</td>\n",
       "      <td>29845595</td>\n",
       "      <td>136.9232</td>\n",
       "      <td>A</td>\n",
       "      <td>Common Stock</td>\n",
       "    </tr>\n",
       "    <tr>\n",
       "      <th>9</th>\n",
       "      <td>GATES WILLIAM H III</td>\n",
       "      <td>REDMOND</td>\n",
       "      <td>2018-03-12</td>\n",
       "      <td>4</td>\n",
       "      <td>79460</td>\n",
       "      <td>29925055</td>\n",
       "      <td>135.8657</td>\n",
       "      <td>A</td>\n",
       "      <td>Common Stock</td>\n",
       "    </tr>\n",
       "    <tr>\n",
       "      <th>10</th>\n",
       "      <td>GATES WILLIAM H III</td>\n",
       "      <td>REDMOND</td>\n",
       "      <td>2018-03-13</td>\n",
       "      <td>4</td>\n",
       "      <td>23788</td>\n",
       "      <td>29948843</td>\n",
       "      <td>137.2432</td>\n",
       "      <td>A</td>\n",
       "      <td>Common Stock</td>\n",
       "    </tr>\n",
       "    <tr>\n",
       "      <th>11</th>\n",
       "      <td>GATES WILLIAM H III</td>\n",
       "      <td>REDMOND</td>\n",
       "      <td>2018-03-13</td>\n",
       "      <td>4</td>\n",
       "      <td>245212</td>\n",
       "      <td>30194055</td>\n",
       "      <td>136.6484</td>\n",
       "      <td>A</td>\n",
       "      <td>Common Stock</td>\n",
       "    </tr>\n",
       "    <tr>\n",
       "      <th>12</th>\n",
       "      <td>GATES WILLIAM H III</td>\n",
       "      <td>REDMOND</td>\n",
       "      <td>2018-03-07</td>\n",
       "      <td>4</td>\n",
       "      <td>242743.0000</td>\n",
       "      <td>28738636.0000</td>\n",
       "      <td>132.4900</td>\n",
       "      <td>A</td>\n",
       "      <td>Common Stock</td>\n",
       "    </tr>\n",
       "    <tr>\n",
       "      <th>13</th>\n",
       "      <td>GATES WILLIAM H III</td>\n",
       "      <td>REDMOND</td>\n",
       "      <td>2018-03-07</td>\n",
       "      <td>4</td>\n",
       "      <td>230000.0000</td>\n",
       "      <td>28968636.0000</td>\n",
       "      <td>132.7086</td>\n",
       "      <td>A</td>\n",
       "      <td>Common Stock</td>\n",
       "    </tr>\n",
       "    <tr>\n",
       "      <th>14</th>\n",
       "      <td>GATES WILLIAM H III</td>\n",
       "      <td>REDMOND</td>\n",
       "      <td>2018-03-07</td>\n",
       "      <td>4</td>\n",
       "      <td>221600.0000</td>\n",
       "      <td>29190236.0000</td>\n",
       "      <td>131.0343</td>\n",
       "      <td>A</td>\n",
       "      <td>Common Stock</td>\n",
       "    </tr>\n",
       "    <tr>\n",
       "      <th>15</th>\n",
       "      <td>GATES WILLIAM H III</td>\n",
       "      <td>REDMOND</td>\n",
       "      <td>2018-03-08</td>\n",
       "      <td>4</td>\n",
       "      <td>168873.0000</td>\n",
       "      <td>29359109.0000</td>\n",
       "      <td>133.4417</td>\n",
       "      <td>A</td>\n",
       "      <td>Common Stock</td>\n",
       "    </tr>\n",
       "    <tr>\n",
       "      <th>16</th>\n",
       "      <td>GATES WILLIAM H III</td>\n",
       "      <td>REDMOND</td>\n",
       "      <td>2018-03-08</td>\n",
       "      <td>4</td>\n",
       "      <td>23427.0000</td>\n",
       "      <td>29382536.0000</td>\n",
       "      <td>134.1763</td>\n",
       "      <td>A</td>\n",
       "      <td>Common Stock</td>\n",
       "    </tr>\n",
       "    <tr>\n",
       "      <th>17</th>\n",
       "      <td>GATES WILLIAM H III</td>\n",
       "      <td>REDMOND</td>\n",
       "      <td>2018-03-09</td>\n",
       "      <td>4</td>\n",
       "      <td>259876.0000</td>\n",
       "      <td>29642412.0000</td>\n",
       "      <td>134.4945</td>\n",
       "      <td>A</td>\n",
       "      <td>Common Stock</td>\n",
       "    </tr>\n",
       "    <tr>\n",
       "      <th>18</th>\n",
       "      <td>GATES WILLIAM H III</td>\n",
       "      <td>REDMOND</td>\n",
       "      <td>2018-03-09</td>\n",
       "      <td>4</td>\n",
       "      <td>182643.0000</td>\n",
       "      <td>29825055.0000</td>\n",
       "      <td>134.7503</td>\n",
       "      <td>A</td>\n",
       "      <td>Common Stock</td>\n",
       "    </tr>\n",
       "    <tr>\n",
       "      <th>19</th>\n",
       "      <td>GATES WILLIAM H III</td>\n",
       "      <td>REDMOND</td>\n",
       "      <td>2017-08-03</td>\n",
       "      <td>4</td>\n",
       "      <td>75500.0000</td>\n",
       "      <td>28495893.0000</td>\n",
       "      <td>132.5712</td>\n",
       "      <td>A</td>\n",
       "      <td>Common Stock</td>\n",
       "    </tr>\n",
       "    <tr>\n",
       "      <th>20</th>\n",
       "      <td>GATES WILLIAM H III</td>\n",
       "      <td>REDMOND</td>\n",
       "      <td>2017-05-03</td>\n",
       "      <td>4</td>\n",
       "      <td>1650000.0000</td>\n",
       "      <td>167842934.0000</td>\n",
       "      <td>68.9313</td>\n",
       "      <td>D</td>\n",
       "      <td>Common Stock</td>\n",
       "    </tr>\n",
       "    <tr>\n",
       "      <th>21</th>\n",
       "      <td>GATES WILLIAM H III</td>\n",
       "      <td>REDMOND</td>\n",
       "      <td>2017-05-04</td>\n",
       "      <td>4</td>\n",
       "      <td>850000.0000</td>\n",
       "      <td>166992934.0000</td>\n",
       "      <td>68.8284</td>\n",
       "      <td>D</td>\n",
       "      <td>Common Stock</td>\n",
       "    </tr>\n",
       "    <tr>\n",
       "      <th>22</th>\n",
       "      <td>GATES WILLIAM H III</td>\n",
       "      <td>REDMOND</td>\n",
       "      <td>2017-05-02</td>\n",
       "      <td>4</td>\n",
       "      <td>2500000.0000</td>\n",
       "      <td>169492934.0000</td>\n",
       "      <td>69.4026</td>\n",
       "      <td>D</td>\n",
       "      <td>Common Stock</td>\n",
       "    </tr>\n",
       "    <tr>\n",
       "      <th>23</th>\n",
       "      <td>GATES WILLIAM H III</td>\n",
       "      <td>REDMOND</td>\n",
       "      <td>2017-05-01</td>\n",
       "      <td>4</td>\n",
       "      <td>3000000.0000</td>\n",
       "      <td>171992934.0000</td>\n",
       "      <td>69.2153</td>\n",
       "      <td>D</td>\n",
       "      <td>Common Stock</td>\n",
       "    </tr>\n",
       "    <tr>\n",
       "      <th>24</th>\n",
       "      <td>GATES WILLIAM H III</td>\n",
       "      <td>REDMOND</td>\n",
       "      <td>2017-02-01</td>\n",
       "      <td>4</td>\n",
       "      <td>4900.0000</td>\n",
       "      <td>178988034.0000</td>\n",
       "      <td>64.4858</td>\n",
       "      <td>D</td>\n",
       "      <td>Common Stock</td>\n",
       "    </tr>\n",
       "    <tr>\n",
       "      <th>25</th>\n",
       "      <td>GATES WILLIAM H III</td>\n",
       "      <td>REDMOND</td>\n",
       "      <td>2017-02-01</td>\n",
       "      <td>4</td>\n",
       "      <td>1995100.0000</td>\n",
       "      <td>176992934.0000</td>\n",
       "      <td>63.8460</td>\n",
       "      <td>D</td>\n",
       "      <td>Common Stock</td>\n",
       "    </tr>\n",
       "    <tr>\n",
       "      <th>26</th>\n",
       "      <td>GATES WILLIAM H III</td>\n",
       "      <td>REDMOND</td>\n",
       "      <td>2017-02-02</td>\n",
       "      <td>4</td>\n",
       "      <td>2000000.0000</td>\n",
       "      <td>174992934.0000</td>\n",
       "      <td>63.1122</td>\n",
       "      <td>D</td>\n",
       "      <td>Common Stock</td>\n",
       "    </tr>\n",
       "    <tr>\n",
       "      <th>27</th>\n",
       "      <td>GATES WILLIAM H III</td>\n",
       "      <td>REDMOND</td>\n",
       "      <td>2017-01-31</td>\n",
       "      <td>4</td>\n",
       "      <td>2000000.0000</td>\n",
       "      <td>178992934.0000</td>\n",
       "      <td>64.5517</td>\n",
       "      <td>D</td>\n",
       "      <td>Common Stock</td>\n",
       "    </tr>\n",
       "    <tr>\n",
       "      <th>28</th>\n",
       "      <td>GATES WILLIAM H III</td>\n",
       "      <td>REDMOND</td>\n",
       "      <td>2017-01-30</td>\n",
       "      <td>4</td>\n",
       "      <td>2000000.0000</td>\n",
       "      <td>180992934.0000</td>\n",
       "      <td>65.1124</td>\n",
       "      <td>D</td>\n",
       "      <td>Common Stock</td>\n",
       "    </tr>\n",
       "  </tbody>\n",
       "</table>\n",
       "</div>"
      ],
      "text/plain": [
       "                   Name     City       Dates Form        Shares  \\\n",
       "0   GATES WILLIAM H III  REDMOND  2020-06-11    4       6771076   \n",
       "1   GATES WILLIAM H III  REDMOND  2020-06-11    4       2785365   \n",
       "2   GATES WILLIAM H III  REDMOND  2020-06-11    4        600173   \n",
       "3   GATES WILLIAM H III  REDMOND  2018-03-14    4         15552   \n",
       "4   GATES WILLIAM H III  REDMOND  2018-03-14    4         98216   \n",
       "5   GATES WILLIAM H III  REDMOND  2018-03-15    4        301931   \n",
       "6   GATES WILLIAM H III  REDMOND  2018-03-16    4         32300   \n",
       "7   GATES WILLIAM H III  REDMOND  2018-03-16    4         43500   \n",
       "8   GATES WILLIAM H III  REDMOND  2018-03-12    4         20540   \n",
       "9   GATES WILLIAM H III  REDMOND  2018-03-12    4         79460   \n",
       "10  GATES WILLIAM H III  REDMOND  2018-03-13    4         23788   \n",
       "11  GATES WILLIAM H III  REDMOND  2018-03-13    4        245212   \n",
       "12  GATES WILLIAM H III  REDMOND  2018-03-07    4   242743.0000   \n",
       "13  GATES WILLIAM H III  REDMOND  2018-03-07    4   230000.0000   \n",
       "14  GATES WILLIAM H III  REDMOND  2018-03-07    4   221600.0000   \n",
       "15  GATES WILLIAM H III  REDMOND  2018-03-08    4   168873.0000   \n",
       "16  GATES WILLIAM H III  REDMOND  2018-03-08    4    23427.0000   \n",
       "17  GATES WILLIAM H III  REDMOND  2018-03-09    4   259876.0000   \n",
       "18  GATES WILLIAM H III  REDMOND  2018-03-09    4   182643.0000   \n",
       "19  GATES WILLIAM H III  REDMOND  2017-08-03    4    75500.0000   \n",
       "20  GATES WILLIAM H III  REDMOND  2017-05-03    4  1650000.0000   \n",
       "21  GATES WILLIAM H III  REDMOND  2017-05-04    4   850000.0000   \n",
       "22  GATES WILLIAM H III  REDMOND  2017-05-02    4  2500000.0000   \n",
       "23  GATES WILLIAM H III  REDMOND  2017-05-01    4  3000000.0000   \n",
       "24  GATES WILLIAM H III  REDMOND  2017-02-01    4     4900.0000   \n",
       "25  GATES WILLIAM H III  REDMOND  2017-02-01    4  1995100.0000   \n",
       "26  GATES WILLIAM H III  REDMOND  2017-02-02    4  2000000.0000   \n",
       "27  GATES WILLIAM H III  REDMOND  2017-01-31    4  2000000.0000   \n",
       "28  GATES WILLIAM H III  REDMOND  2017-01-30    4  2000000.0000   \n",
       "\n",
       "      Shares After     Price A/D Code            Security Title  \n",
       "0          6771076                  A              Common stock  \n",
       "1                0                  D  Series G preferred stock  \n",
       "2                0                  D  Series H preferred stock  \n",
       "3         30209607  137.2626        A              Common Stock  \n",
       "4         30307823  136.8334        A              Common Stock  \n",
       "5         30609754  136.6253        A              Common Stock  \n",
       "6         30642054  137.9351        A              Common Stock  \n",
       "7         30685554  137.2272        A              Common Stock  \n",
       "8         29845595  136.9232        A              Common Stock  \n",
       "9         29925055  135.8657        A              Common Stock  \n",
       "10        29948843  137.2432        A              Common Stock  \n",
       "11        30194055  136.6484        A              Common Stock  \n",
       "12   28738636.0000  132.4900        A              Common Stock  \n",
       "13   28968636.0000  132.7086        A              Common Stock  \n",
       "14   29190236.0000  131.0343        A              Common Stock  \n",
       "15   29359109.0000  133.4417        A              Common Stock  \n",
       "16   29382536.0000  134.1763        A              Common Stock  \n",
       "17   29642412.0000  134.4945        A              Common Stock  \n",
       "18   29825055.0000  134.7503        A              Common Stock  \n",
       "19   28495893.0000  132.5712        A              Common Stock  \n",
       "20  167842934.0000   68.9313        D              Common Stock  \n",
       "21  166992934.0000   68.8284        D              Common Stock  \n",
       "22  169492934.0000   69.4026        D              Common Stock  \n",
       "23  171992934.0000   69.2153        D              Common Stock  \n",
       "24  178988034.0000   64.4858        D              Common Stock  \n",
       "25  176992934.0000   63.8460        D              Common Stock  \n",
       "26  174992934.0000   63.1122        D              Common Stock  \n",
       "27  178992934.0000   64.5517        D              Common Stock  \n",
       "28  180992934.0000   65.1124        D              Common Stock  "
      ]
     },
     "execution_count": 23,
     "metadata": {},
     "output_type": "execute_result"
    }
   ],
   "source": [
    "df"
   ]
  },
  {
   "cell_type": "markdown",
   "metadata": {},
   "source": [
    "## Export to Excel"
   ]
  },
  {
   "cell_type": "code",
   "execution_count": 24,
   "metadata": {},
   "outputs": [],
   "source": [
    "#df.to_excel(\"Bill_Gates.xlsx\",sheet_name='Transactions', index = False)"
   ]
  }
 ],
 "metadata": {
  "kernelspec": {
   "display_name": "Python 3",
   "language": "python",
   "name": "python3"
  },
  "language_info": {
   "codemirror_mode": {
    "name": "ipython",
    "version": 3
   },
   "file_extension": ".py",
   "mimetype": "text/x-python",
   "name": "python",
   "nbconvert_exporter": "python",
   "pygments_lexer": "ipython3",
   "version": "3.7.1"
  }
 },
 "nbformat": 4,
 "nbformat_minor": 2
}
